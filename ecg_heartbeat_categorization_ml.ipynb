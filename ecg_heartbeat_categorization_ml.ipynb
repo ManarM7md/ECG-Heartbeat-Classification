{
  "cells": [
    {
      "cell_type": "markdown",
      "id": "ee765203",
      "metadata": {
        "id": "ee765203"
      },
      "source": [
        "# Libraries"
      ]
    },
    {
      "cell_type": "code",
      "execution_count": null,
      "id": "9b7522e7",
      "metadata": {
        "id": "9b7522e7"
      },
      "outputs": [],
      "source": [
        "import numpy as np\n",
        "import pandas as pd\n",
        "from sklearn.decomposition import PCA\n",
        "import matplotlib.pyplot as plt\n",
        "from sklearn.model_selection import train_test_split\n",
        "from sklearn.preprocessing import StandardScaler\n",
        "from sklearn.metrics import log_loss\n",
        "from sklearn.ensemble import RandomForestClassifier\n",
        "from sklearn.tree import DecisionTreeClassifier\n",
        "from xgboost import XGBClassifier\n",
        "from sklearn.linear_model import LogisticRegression\n",
        "from sklearn.neighbors import KNeighborsClassifier\n",
        "from sklearn.metrics import accuracy_score, recall_score,confusion_matrix, precision_score, f1_score, classification_report\n",
        "from sklearn.svm import SVC\n",
        "from sklearn.model_selection import GridSearchCV\n",
        "from sklearn.utils import resample\n",
        "from imblearn.over_sampling import SMOTE\n",
        "from sklearn.ensemble import VotingClassifier\n",
        "from sklearn import svm\n",
        "import time\n",
        "import pandas as pd\n",
        "from sklearn.decomposition import PCA\n",
        "from sklearn.linear_model import LogisticRegression\n",
        "from sklearn.ensemble import RandomForestClassifier\n",
        "from sklearn.metrics import accuracy_score, classification_report, confusion_matrix\n",
        "from sklearn.model_selection import GridSearchCV\n",
        "from imblearn.over_sampling import SMOTE\n",
        "import zipfile\n",
        "import joblib\n",
        "import warnings\n",
        "warnings.filterwarnings('ignore')"
      ]
    },
    {
      "cell_type": "code",
      "execution_count": null,
      "id": "PAzLmv17u7kK",
      "metadata": {
        "id": "PAzLmv17u7kK"
      },
      "outputs": [],
      "source": [
        "data = !kaggle datasets download -d shayanfazeli/heartbeat"
      ]
    },
    {
      "cell_type": "code",
      "execution_count": null,
      "id": "Nb_zA6yEu7gt",
      "metadata": {
        "id": "Nb_zA6yEu7gt"
      },
      "outputs": [],
      "source": [
        "with zipfile.ZipFile('heartbeat.zip', 'r') as zip_ref:\n",
        "    zip_ref.extractall('data')"
      ]
    },
    {
      "cell_type": "markdown",
      "id": "0b896f14",
      "metadata": {
        "id": "0b896f14"
      },
      "source": [
        "# Load the data"
      ]
    },
    {
      "cell_type": "code",
      "execution_count": null,
      "id": "b73c64cf",
      "metadata": {
        "colab": {
          "base_uri": "https://localhost:8080/",
          "height": 461
        },
        "id": "b73c64cf",
        "outputId": "a08fa600-28cb-446c-93af-80d77fc2b873"
      },
      "outputs": [
        {
          "output_type": "execute_result",
          "data": {
            "text/plain": [
              "       Feature 1  Feature 2  Feature 3  Feature 4  Feature 5  Feature 6  \\\n",
              "0       0.960114   0.863248   0.461538   0.196581   0.094017   0.125356   \n",
              "1       1.000000   0.659459   0.186486   0.070270   0.070270   0.059459   \n",
              "2       0.925414   0.665746   0.541436   0.276243   0.196133   0.077348   \n",
              "3       0.967136   1.000000   0.830986   0.586854   0.356808   0.248826   \n",
              "4       0.927461   1.000000   0.626943   0.193437   0.094991   0.072539   \n",
              "...          ...        ...        ...        ...        ...        ...   \n",
              "87548   0.807018   0.494737   0.536842   0.529825   0.491228   0.484211   \n",
              "87549   0.718333   0.605000   0.486667   0.361667   0.231667   0.120000   \n",
              "87550   0.906122   0.624490   0.595918   0.575510   0.530612   0.481633   \n",
              "87551   0.858228   0.645570   0.845570   0.248101   0.167089   0.131646   \n",
              "87552   0.901506   0.845886   0.800695   0.748552   0.687138   0.599073   \n",
              "\n",
              "       Feature 7  Feature 8  Feature 9  Feature 10  ...  Feature 179  \\\n",
              "0       0.099715   0.088319   0.074074    0.082621  ...          0.0   \n",
              "1       0.056757   0.043243   0.054054    0.045946  ...          0.0   \n",
              "2       0.071823   0.060773   0.066298    0.058011  ...          0.0   \n",
              "3       0.145540   0.089202   0.117371    0.150235  ...          0.0   \n",
              "4       0.043178   0.053541   0.093264    0.189983  ...          0.0   \n",
              "...          ...        ...        ...         ...  ...          ...   \n",
              "87548   0.456140   0.396491   0.284211    0.136842  ...          0.0   \n",
              "87549   0.051667   0.001667   0.000000    0.013333  ...          0.0   \n",
              "87550   0.444898   0.387755   0.322449    0.191837  ...          0.0   \n",
              "87551   0.121519   0.121519   0.118987    0.103797  ...          0.0   \n",
              "87552   0.512167   0.427578   0.395133    0.402086  ...          0.0   \n",
              "\n",
              "       Feature 180  Feature 181  Feature 182  Feature 183  Feature 184  \\\n",
              "0              0.0          0.0          0.0          0.0          0.0   \n",
              "1              0.0          0.0          0.0          0.0          0.0   \n",
              "2              0.0          0.0          0.0          0.0          0.0   \n",
              "3              0.0          0.0          0.0          0.0          0.0   \n",
              "4              0.0          0.0          0.0          0.0          0.0   \n",
              "...            ...          ...          ...          ...          ...   \n",
              "87548          0.0          0.0          0.0          0.0          0.0   \n",
              "87549          0.0          0.0          0.0          0.0          0.0   \n",
              "87550          0.0          0.0          0.0          0.0          0.0   \n",
              "87551          0.0          0.0          0.0          0.0          0.0   \n",
              "87552          0.0          0.0          0.0          0.0          0.0   \n",
              "\n",
              "       Feature 185  Feature 186  Feature 187  Target  \n",
              "0              0.0          0.0          0.0     0.0  \n",
              "1              0.0          0.0          0.0     0.0  \n",
              "2              0.0          0.0          0.0     0.0  \n",
              "3              0.0          0.0          0.0     0.0  \n",
              "4              0.0          0.0          0.0     0.0  \n",
              "...            ...          ...          ...     ...  \n",
              "87548          0.0          0.0          0.0     4.0  \n",
              "87549          0.0          0.0          0.0     4.0  \n",
              "87550          0.0          0.0          0.0     4.0  \n",
              "87551          0.0          0.0          0.0     4.0  \n",
              "87552          0.0          0.0          0.0     4.0  \n",
              "\n",
              "[87553 rows x 188 columns]"
            ],
            "text/html": [
              "\n",
              "  <div id=\"df-66ade661-515d-418d-a561-a998074b996d\" class=\"colab-df-container\">\n",
              "    <div>\n",
              "<style scoped>\n",
              "    .dataframe tbody tr th:only-of-type {\n",
              "        vertical-align: middle;\n",
              "    }\n",
              "\n",
              "    .dataframe tbody tr th {\n",
              "        vertical-align: top;\n",
              "    }\n",
              "\n",
              "    .dataframe thead th {\n",
              "        text-align: right;\n",
              "    }\n",
              "</style>\n",
              "<table border=\"1\" class=\"dataframe\">\n",
              "  <thead>\n",
              "    <tr style=\"text-align: right;\">\n",
              "      <th></th>\n",
              "      <th>Feature 1</th>\n",
              "      <th>Feature 2</th>\n",
              "      <th>Feature 3</th>\n",
              "      <th>Feature 4</th>\n",
              "      <th>Feature 5</th>\n",
              "      <th>Feature 6</th>\n",
              "      <th>Feature 7</th>\n",
              "      <th>Feature 8</th>\n",
              "      <th>Feature 9</th>\n",
              "      <th>Feature 10</th>\n",
              "      <th>...</th>\n",
              "      <th>Feature 179</th>\n",
              "      <th>Feature 180</th>\n",
              "      <th>Feature 181</th>\n",
              "      <th>Feature 182</th>\n",
              "      <th>Feature 183</th>\n",
              "      <th>Feature 184</th>\n",
              "      <th>Feature 185</th>\n",
              "      <th>Feature 186</th>\n",
              "      <th>Feature 187</th>\n",
              "      <th>Target</th>\n",
              "    </tr>\n",
              "  </thead>\n",
              "  <tbody>\n",
              "    <tr>\n",
              "      <th>0</th>\n",
              "      <td>0.960114</td>\n",
              "      <td>0.863248</td>\n",
              "      <td>0.461538</td>\n",
              "      <td>0.196581</td>\n",
              "      <td>0.094017</td>\n",
              "      <td>0.125356</td>\n",
              "      <td>0.099715</td>\n",
              "      <td>0.088319</td>\n",
              "      <td>0.074074</td>\n",
              "      <td>0.082621</td>\n",
              "      <td>...</td>\n",
              "      <td>0.0</td>\n",
              "      <td>0.0</td>\n",
              "      <td>0.0</td>\n",
              "      <td>0.0</td>\n",
              "      <td>0.0</td>\n",
              "      <td>0.0</td>\n",
              "      <td>0.0</td>\n",
              "      <td>0.0</td>\n",
              "      <td>0.0</td>\n",
              "      <td>0.0</td>\n",
              "    </tr>\n",
              "    <tr>\n",
              "      <th>1</th>\n",
              "      <td>1.000000</td>\n",
              "      <td>0.659459</td>\n",
              "      <td>0.186486</td>\n",
              "      <td>0.070270</td>\n",
              "      <td>0.070270</td>\n",
              "      <td>0.059459</td>\n",
              "      <td>0.056757</td>\n",
              "      <td>0.043243</td>\n",
              "      <td>0.054054</td>\n",
              "      <td>0.045946</td>\n",
              "      <td>...</td>\n",
              "      <td>0.0</td>\n",
              "      <td>0.0</td>\n",
              "      <td>0.0</td>\n",
              "      <td>0.0</td>\n",
              "      <td>0.0</td>\n",
              "      <td>0.0</td>\n",
              "      <td>0.0</td>\n",
              "      <td>0.0</td>\n",
              "      <td>0.0</td>\n",
              "      <td>0.0</td>\n",
              "    </tr>\n",
              "    <tr>\n",
              "      <th>2</th>\n",
              "      <td>0.925414</td>\n",
              "      <td>0.665746</td>\n",
              "      <td>0.541436</td>\n",
              "      <td>0.276243</td>\n",
              "      <td>0.196133</td>\n",
              "      <td>0.077348</td>\n",
              "      <td>0.071823</td>\n",
              "      <td>0.060773</td>\n",
              "      <td>0.066298</td>\n",
              "      <td>0.058011</td>\n",
              "      <td>...</td>\n",
              "      <td>0.0</td>\n",
              "      <td>0.0</td>\n",
              "      <td>0.0</td>\n",
              "      <td>0.0</td>\n",
              "      <td>0.0</td>\n",
              "      <td>0.0</td>\n",
              "      <td>0.0</td>\n",
              "      <td>0.0</td>\n",
              "      <td>0.0</td>\n",
              "      <td>0.0</td>\n",
              "    </tr>\n",
              "    <tr>\n",
              "      <th>3</th>\n",
              "      <td>0.967136</td>\n",
              "      <td>1.000000</td>\n",
              "      <td>0.830986</td>\n",
              "      <td>0.586854</td>\n",
              "      <td>0.356808</td>\n",
              "      <td>0.248826</td>\n",
              "      <td>0.145540</td>\n",
              "      <td>0.089202</td>\n",
              "      <td>0.117371</td>\n",
              "      <td>0.150235</td>\n",
              "      <td>...</td>\n",
              "      <td>0.0</td>\n",
              "      <td>0.0</td>\n",
              "      <td>0.0</td>\n",
              "      <td>0.0</td>\n",
              "      <td>0.0</td>\n",
              "      <td>0.0</td>\n",
              "      <td>0.0</td>\n",
              "      <td>0.0</td>\n",
              "      <td>0.0</td>\n",
              "      <td>0.0</td>\n",
              "    </tr>\n",
              "    <tr>\n",
              "      <th>4</th>\n",
              "      <td>0.927461</td>\n",
              "      <td>1.000000</td>\n",
              "      <td>0.626943</td>\n",
              "      <td>0.193437</td>\n",
              "      <td>0.094991</td>\n",
              "      <td>0.072539</td>\n",
              "      <td>0.043178</td>\n",
              "      <td>0.053541</td>\n",
              "      <td>0.093264</td>\n",
              "      <td>0.189983</td>\n",
              "      <td>...</td>\n",
              "      <td>0.0</td>\n",
              "      <td>0.0</td>\n",
              "      <td>0.0</td>\n",
              "      <td>0.0</td>\n",
              "      <td>0.0</td>\n",
              "      <td>0.0</td>\n",
              "      <td>0.0</td>\n",
              "      <td>0.0</td>\n",
              "      <td>0.0</td>\n",
              "      <td>0.0</td>\n",
              "    </tr>\n",
              "    <tr>\n",
              "      <th>...</th>\n",
              "      <td>...</td>\n",
              "      <td>...</td>\n",
              "      <td>...</td>\n",
              "      <td>...</td>\n",
              "      <td>...</td>\n",
              "      <td>...</td>\n",
              "      <td>...</td>\n",
              "      <td>...</td>\n",
              "      <td>...</td>\n",
              "      <td>...</td>\n",
              "      <td>...</td>\n",
              "      <td>...</td>\n",
              "      <td>...</td>\n",
              "      <td>...</td>\n",
              "      <td>...</td>\n",
              "      <td>...</td>\n",
              "      <td>...</td>\n",
              "      <td>...</td>\n",
              "      <td>...</td>\n",
              "      <td>...</td>\n",
              "      <td>...</td>\n",
              "    </tr>\n",
              "    <tr>\n",
              "      <th>87548</th>\n",
              "      <td>0.807018</td>\n",
              "      <td>0.494737</td>\n",
              "      <td>0.536842</td>\n",
              "      <td>0.529825</td>\n",
              "      <td>0.491228</td>\n",
              "      <td>0.484211</td>\n",
              "      <td>0.456140</td>\n",
              "      <td>0.396491</td>\n",
              "      <td>0.284211</td>\n",
              "      <td>0.136842</td>\n",
              "      <td>...</td>\n",
              "      <td>0.0</td>\n",
              "      <td>0.0</td>\n",
              "      <td>0.0</td>\n",
              "      <td>0.0</td>\n",
              "      <td>0.0</td>\n",
              "      <td>0.0</td>\n",
              "      <td>0.0</td>\n",
              "      <td>0.0</td>\n",
              "      <td>0.0</td>\n",
              "      <td>4.0</td>\n",
              "    </tr>\n",
              "    <tr>\n",
              "      <th>87549</th>\n",
              "      <td>0.718333</td>\n",
              "      <td>0.605000</td>\n",
              "      <td>0.486667</td>\n",
              "      <td>0.361667</td>\n",
              "      <td>0.231667</td>\n",
              "      <td>0.120000</td>\n",
              "      <td>0.051667</td>\n",
              "      <td>0.001667</td>\n",
              "      <td>0.000000</td>\n",
              "      <td>0.013333</td>\n",
              "      <td>...</td>\n",
              "      <td>0.0</td>\n",
              "      <td>0.0</td>\n",
              "      <td>0.0</td>\n",
              "      <td>0.0</td>\n",
              "      <td>0.0</td>\n",
              "      <td>0.0</td>\n",
              "      <td>0.0</td>\n",
              "      <td>0.0</td>\n",
              "      <td>0.0</td>\n",
              "      <td>4.0</td>\n",
              "    </tr>\n",
              "    <tr>\n",
              "      <th>87550</th>\n",
              "      <td>0.906122</td>\n",
              "      <td>0.624490</td>\n",
              "      <td>0.595918</td>\n",
              "      <td>0.575510</td>\n",
              "      <td>0.530612</td>\n",
              "      <td>0.481633</td>\n",
              "      <td>0.444898</td>\n",
              "      <td>0.387755</td>\n",
              "      <td>0.322449</td>\n",
              "      <td>0.191837</td>\n",
              "      <td>...</td>\n",
              "      <td>0.0</td>\n",
              "      <td>0.0</td>\n",
              "      <td>0.0</td>\n",
              "      <td>0.0</td>\n",
              "      <td>0.0</td>\n",
              "      <td>0.0</td>\n",
              "      <td>0.0</td>\n",
              "      <td>0.0</td>\n",
              "      <td>0.0</td>\n",
              "      <td>4.0</td>\n",
              "    </tr>\n",
              "    <tr>\n",
              "      <th>87551</th>\n",
              "      <td>0.858228</td>\n",
              "      <td>0.645570</td>\n",
              "      <td>0.845570</td>\n",
              "      <td>0.248101</td>\n",
              "      <td>0.167089</td>\n",
              "      <td>0.131646</td>\n",
              "      <td>0.121519</td>\n",
              "      <td>0.121519</td>\n",
              "      <td>0.118987</td>\n",
              "      <td>0.103797</td>\n",
              "      <td>...</td>\n",
              "      <td>0.0</td>\n",
              "      <td>0.0</td>\n",
              "      <td>0.0</td>\n",
              "      <td>0.0</td>\n",
              "      <td>0.0</td>\n",
              "      <td>0.0</td>\n",
              "      <td>0.0</td>\n",
              "      <td>0.0</td>\n",
              "      <td>0.0</td>\n",
              "      <td>4.0</td>\n",
              "    </tr>\n",
              "    <tr>\n",
              "      <th>87552</th>\n",
              "      <td>0.901506</td>\n",
              "      <td>0.845886</td>\n",
              "      <td>0.800695</td>\n",
              "      <td>0.748552</td>\n",
              "      <td>0.687138</td>\n",
              "      <td>0.599073</td>\n",
              "      <td>0.512167</td>\n",
              "      <td>0.427578</td>\n",
              "      <td>0.395133</td>\n",
              "      <td>0.402086</td>\n",
              "      <td>...</td>\n",
              "      <td>0.0</td>\n",
              "      <td>0.0</td>\n",
              "      <td>0.0</td>\n",
              "      <td>0.0</td>\n",
              "      <td>0.0</td>\n",
              "      <td>0.0</td>\n",
              "      <td>0.0</td>\n",
              "      <td>0.0</td>\n",
              "      <td>0.0</td>\n",
              "      <td>4.0</td>\n",
              "    </tr>\n",
              "  </tbody>\n",
              "</table>\n",
              "<p>87553 rows × 188 columns</p>\n",
              "</div>\n",
              "    <div class=\"colab-df-buttons\">\n",
              "\n",
              "  <div class=\"colab-df-container\">\n",
              "    <button class=\"colab-df-convert\" onclick=\"convertToInteractive('df-66ade661-515d-418d-a561-a998074b996d')\"\n",
              "            title=\"Convert this dataframe to an interactive table.\"\n",
              "            style=\"display:none;\">\n",
              "\n",
              "  <svg xmlns=\"http://www.w3.org/2000/svg\" height=\"24px\" viewBox=\"0 -960 960 960\">\n",
              "    <path d=\"M120-120v-720h720v720H120Zm60-500h600v-160H180v160Zm220 220h160v-160H400v160Zm0 220h160v-160H400v160ZM180-400h160v-160H180v160Zm440 0h160v-160H620v160ZM180-180h160v-160H180v160Zm440 0h160v-160H620v160Z\"/>\n",
              "  </svg>\n",
              "    </button>\n",
              "\n",
              "  <style>\n",
              "    .colab-df-container {\n",
              "      display:flex;\n",
              "      gap: 12px;\n",
              "    }\n",
              "\n",
              "    .colab-df-convert {\n",
              "      background-color: #E8F0FE;\n",
              "      border: none;\n",
              "      border-radius: 50%;\n",
              "      cursor: pointer;\n",
              "      display: none;\n",
              "      fill: #1967D2;\n",
              "      height: 32px;\n",
              "      padding: 0 0 0 0;\n",
              "      width: 32px;\n",
              "    }\n",
              "\n",
              "    .colab-df-convert:hover {\n",
              "      background-color: #E2EBFA;\n",
              "      box-shadow: 0px 1px 2px rgba(60, 64, 67, 0.3), 0px 1px 3px 1px rgba(60, 64, 67, 0.15);\n",
              "      fill: #174EA6;\n",
              "    }\n",
              "\n",
              "    .colab-df-buttons div {\n",
              "      margin-bottom: 4px;\n",
              "    }\n",
              "\n",
              "    [theme=dark] .colab-df-convert {\n",
              "      background-color: #3B4455;\n",
              "      fill: #D2E3FC;\n",
              "    }\n",
              "\n",
              "    [theme=dark] .colab-df-convert:hover {\n",
              "      background-color: #434B5C;\n",
              "      box-shadow: 0px 1px 3px 1px rgba(0, 0, 0, 0.15);\n",
              "      filter: drop-shadow(0px 1px 2px rgba(0, 0, 0, 0.3));\n",
              "      fill: #FFFFFF;\n",
              "    }\n",
              "  </style>\n",
              "\n",
              "    <script>\n",
              "      const buttonEl =\n",
              "        document.querySelector('#df-66ade661-515d-418d-a561-a998074b996d button.colab-df-convert');\n",
              "      buttonEl.style.display =\n",
              "        google.colab.kernel.accessAllowed ? 'block' : 'none';\n",
              "\n",
              "      async function convertToInteractive(key) {\n",
              "        const element = document.querySelector('#df-66ade661-515d-418d-a561-a998074b996d');\n",
              "        const dataTable =\n",
              "          await google.colab.kernel.invokeFunction('convertToInteractive',\n",
              "                                                    [key], {});\n",
              "        if (!dataTable) return;\n",
              "\n",
              "        const docLinkHtml = 'Like what you see? Visit the ' +\n",
              "          '<a target=\"_blank\" href=https://colab.research.google.com/notebooks/data_table.ipynb>data table notebook</a>'\n",
              "          + ' to learn more about interactive tables.';\n",
              "        element.innerHTML = '';\n",
              "        dataTable['output_type'] = 'display_data';\n",
              "        await google.colab.output.renderOutput(dataTable, element);\n",
              "        const docLink = document.createElement('div');\n",
              "        docLink.innerHTML = docLinkHtml;\n",
              "        element.appendChild(docLink);\n",
              "      }\n",
              "    </script>\n",
              "  </div>\n",
              "\n",
              "\n",
              "<div id=\"df-1258b162-fa63-4cb8-b43e-841c64199098\">\n",
              "  <button class=\"colab-df-quickchart\" onclick=\"quickchart('df-1258b162-fa63-4cb8-b43e-841c64199098')\"\n",
              "            title=\"Suggest charts\"\n",
              "            style=\"display:none;\">\n",
              "\n",
              "<svg xmlns=\"http://www.w3.org/2000/svg\" height=\"24px\"viewBox=\"0 0 24 24\"\n",
              "     width=\"24px\">\n",
              "    <g>\n",
              "        <path d=\"M19 3H5c-1.1 0-2 .9-2 2v14c0 1.1.9 2 2 2h14c1.1 0 2-.9 2-2V5c0-1.1-.9-2-2-2zM9 17H7v-7h2v7zm4 0h-2V7h2v10zm4 0h-2v-4h2v4z\"/>\n",
              "    </g>\n",
              "</svg>\n",
              "  </button>\n",
              "\n",
              "<style>\n",
              "  .colab-df-quickchart {\n",
              "      --bg-color: #E8F0FE;\n",
              "      --fill-color: #1967D2;\n",
              "      --hover-bg-color: #E2EBFA;\n",
              "      --hover-fill-color: #174EA6;\n",
              "      --disabled-fill-color: #AAA;\n",
              "      --disabled-bg-color: #DDD;\n",
              "  }\n",
              "\n",
              "  [theme=dark] .colab-df-quickchart {\n",
              "      --bg-color: #3B4455;\n",
              "      --fill-color: #D2E3FC;\n",
              "      --hover-bg-color: #434B5C;\n",
              "      --hover-fill-color: #FFFFFF;\n",
              "      --disabled-bg-color: #3B4455;\n",
              "      --disabled-fill-color: #666;\n",
              "  }\n",
              "\n",
              "  .colab-df-quickchart {\n",
              "    background-color: var(--bg-color);\n",
              "    border: none;\n",
              "    border-radius: 50%;\n",
              "    cursor: pointer;\n",
              "    display: none;\n",
              "    fill: var(--fill-color);\n",
              "    height: 32px;\n",
              "    padding: 0;\n",
              "    width: 32px;\n",
              "  }\n",
              "\n",
              "  .colab-df-quickchart:hover {\n",
              "    background-color: var(--hover-bg-color);\n",
              "    box-shadow: 0 1px 2px rgba(60, 64, 67, 0.3), 0 1px 3px 1px rgba(60, 64, 67, 0.15);\n",
              "    fill: var(--button-hover-fill-color);\n",
              "  }\n",
              "\n",
              "  .colab-df-quickchart-complete:disabled,\n",
              "  .colab-df-quickchart-complete:disabled:hover {\n",
              "    background-color: var(--disabled-bg-color);\n",
              "    fill: var(--disabled-fill-color);\n",
              "    box-shadow: none;\n",
              "  }\n",
              "\n",
              "  .colab-df-spinner {\n",
              "    border: 2px solid var(--fill-color);\n",
              "    border-color: transparent;\n",
              "    border-bottom-color: var(--fill-color);\n",
              "    animation:\n",
              "      spin 1s steps(1) infinite;\n",
              "  }\n",
              "\n",
              "  @keyframes spin {\n",
              "    0% {\n",
              "      border-color: transparent;\n",
              "      border-bottom-color: var(--fill-color);\n",
              "      border-left-color: var(--fill-color);\n",
              "    }\n",
              "    20% {\n",
              "      border-color: transparent;\n",
              "      border-left-color: var(--fill-color);\n",
              "      border-top-color: var(--fill-color);\n",
              "    }\n",
              "    30% {\n",
              "      border-color: transparent;\n",
              "      border-left-color: var(--fill-color);\n",
              "      border-top-color: var(--fill-color);\n",
              "      border-right-color: var(--fill-color);\n",
              "    }\n",
              "    40% {\n",
              "      border-color: transparent;\n",
              "      border-right-color: var(--fill-color);\n",
              "      border-top-color: var(--fill-color);\n",
              "    }\n",
              "    60% {\n",
              "      border-color: transparent;\n",
              "      border-right-color: var(--fill-color);\n",
              "    }\n",
              "    80% {\n",
              "      border-color: transparent;\n",
              "      border-right-color: var(--fill-color);\n",
              "      border-bottom-color: var(--fill-color);\n",
              "    }\n",
              "    90% {\n",
              "      border-color: transparent;\n",
              "      border-bottom-color: var(--fill-color);\n",
              "    }\n",
              "  }\n",
              "</style>\n",
              "\n",
              "  <script>\n",
              "    async function quickchart(key) {\n",
              "      const quickchartButtonEl =\n",
              "        document.querySelector('#' + key + ' button');\n",
              "      quickchartButtonEl.disabled = true;  // To prevent multiple clicks.\n",
              "      quickchartButtonEl.classList.add('colab-df-spinner');\n",
              "      try {\n",
              "        const charts = await google.colab.kernel.invokeFunction(\n",
              "            'suggestCharts', [key], {});\n",
              "      } catch (error) {\n",
              "        console.error('Error during call to suggestCharts:', error);\n",
              "      }\n",
              "      quickchartButtonEl.classList.remove('colab-df-spinner');\n",
              "      quickchartButtonEl.classList.add('colab-df-quickchart-complete');\n",
              "    }\n",
              "    (() => {\n",
              "      let quickchartButtonEl =\n",
              "        document.querySelector('#df-1258b162-fa63-4cb8-b43e-841c64199098 button');\n",
              "      quickchartButtonEl.style.display =\n",
              "        google.colab.kernel.accessAllowed ? 'block' : 'none';\n",
              "    })();\n",
              "  </script>\n",
              "</div>\n",
              "\n",
              "  <div id=\"id_223e5d95-e478-4f47-9efa-4dcf34e35ea9\">\n",
              "    <style>\n",
              "      .colab-df-generate {\n",
              "        background-color: #E8F0FE;\n",
              "        border: none;\n",
              "        border-radius: 50%;\n",
              "        cursor: pointer;\n",
              "        display: none;\n",
              "        fill: #1967D2;\n",
              "        height: 32px;\n",
              "        padding: 0 0 0 0;\n",
              "        width: 32px;\n",
              "      }\n",
              "\n",
              "      .colab-df-generate:hover {\n",
              "        background-color: #E2EBFA;\n",
              "        box-shadow: 0px 1px 2px rgba(60, 64, 67, 0.3), 0px 1px 3px 1px rgba(60, 64, 67, 0.15);\n",
              "        fill: #174EA6;\n",
              "      }\n",
              "\n",
              "      [theme=dark] .colab-df-generate {\n",
              "        background-color: #3B4455;\n",
              "        fill: #D2E3FC;\n",
              "      }\n",
              "\n",
              "      [theme=dark] .colab-df-generate:hover {\n",
              "        background-color: #434B5C;\n",
              "        box-shadow: 0px 1px 3px 1px rgba(0, 0, 0, 0.15);\n",
              "        filter: drop-shadow(0px 1px 2px rgba(0, 0, 0, 0.3));\n",
              "        fill: #FFFFFF;\n",
              "      }\n",
              "    </style>\n",
              "    <button class=\"colab-df-generate\" onclick=\"generateWithVariable('train_df')\"\n",
              "            title=\"Generate code using this dataframe.\"\n",
              "            style=\"display:none;\">\n",
              "\n",
              "  <svg xmlns=\"http://www.w3.org/2000/svg\" height=\"24px\"viewBox=\"0 0 24 24\"\n",
              "       width=\"24px\">\n",
              "    <path d=\"M7,19H8.4L18.45,9,17,7.55,7,17.6ZM5,21V16.75L18.45,3.32a2,2,0,0,1,2.83,0l1.4,1.43a1.91,1.91,0,0,1,.58,1.4,1.91,1.91,0,0,1-.58,1.4L9.25,21ZM18.45,9,17,7.55Zm-12,3A5.31,5.31,0,0,0,4.9,8.1,5.31,5.31,0,0,0,1,6.5,5.31,5.31,0,0,0,4.9,4.9,5.31,5.31,0,0,0,6.5,1,5.31,5.31,0,0,0,8.1,4.9,5.31,5.31,0,0,0,12,6.5,5.46,5.46,0,0,0,6.5,12Z\"/>\n",
              "  </svg>\n",
              "    </button>\n",
              "    <script>\n",
              "      (() => {\n",
              "      const buttonEl =\n",
              "        document.querySelector('#id_223e5d95-e478-4f47-9efa-4dcf34e35ea9 button.colab-df-generate');\n",
              "      buttonEl.style.display =\n",
              "        google.colab.kernel.accessAllowed ? 'block' : 'none';\n",
              "\n",
              "      buttonEl.onclick = () => {\n",
              "        google.colab.notebook.generateWithVariable('train_df');\n",
              "      }\n",
              "      })();\n",
              "    </script>\n",
              "  </div>\n",
              "\n",
              "    </div>\n",
              "  </div>\n"
            ],
            "application/vnd.google.colaboratory.intrinsic+json": {
              "type": "dataframe",
              "variable_name": "train_df"
            }
          },
          "metadata": {},
          "execution_count": 5
        }
      ],
      "source": [
        "train_data = pd.read_csv(r\"/content/data/mitbih_train.csv\")\n",
        "test_data = pd.read_csv(r\"/content/data/mitbih_test.csv\")\n",
        "\n",
        "train_df = pd.DataFrame(train_data)\n",
        "test_df = pd.DataFrame(test_data)\n",
        "\n",
        "del train_data, test_data\n",
        "\n",
        "train_df.columns = [f'Feature {i + 1}' for i in range(len(train_df.columns) - 1)] + ['Target']\n",
        "test_df.columns = [f'Feature {i + 1}' for i in range(len(test_df.columns) - 1)] + ['Target']\n",
        "train_df"
      ]
    },
    {
      "cell_type": "markdown",
      "id": "f5a3f594",
      "metadata": {
        "id": "f5a3f594"
      },
      "source": [
        "# Data analysis"
      ]
    },
    {
      "cell_type": "code",
      "execution_count": null,
      "id": "24c5ba84",
      "metadata": {
        "colab": {
          "base_uri": "https://localhost:8080/"
        },
        "id": "24c5ba84",
        "outputId": "e8df8a3d-5f13-4c70-8c47-6f81351a4611"
      },
      "outputs": [
        {
          "output_type": "stream",
          "name": "stdout",
          "text": [
            "<class 'pandas.core.frame.DataFrame'>\n",
            "RangeIndex: 87553 entries, 0 to 87552\n",
            "Columns: 188 entries, Feature 1 to Target\n",
            "dtypes: float64(188)\n",
            "memory usage: 125.6 MB\n",
            "<class 'pandas.core.frame.DataFrame'>\n",
            "RangeIndex: 21891 entries, 0 to 21890\n",
            "Columns: 188 entries, Feature 1 to Target\n",
            "dtypes: float64(188)\n",
            "memory usage: 31.4 MB\n"
          ]
        },
        {
          "output_type": "execute_result",
          "data": {
            "text/plain": [
              "(None, None)"
            ]
          },
          "metadata": {},
          "execution_count": 6
        }
      ],
      "source": [
        "train_df.info(), test_df.info()"
      ]
    },
    {
      "cell_type": "code",
      "execution_count": null,
      "id": "698beeb3",
      "metadata": {
        "colab": {
          "base_uri": "https://localhost:8080/"
        },
        "id": "698beeb3",
        "outputId": "a1ad274b-193a-4a8d-f42d-bd685c3b9b01"
      },
      "outputs": [
        {
          "output_type": "execute_result",
          "data": {
            "text/plain": [
              "(Feature 1      0\n",
              " Feature 2      0\n",
              " Feature 3      0\n",
              " Feature 4      0\n",
              " Feature 5      0\n",
              "               ..\n",
              " Feature 184    0\n",
              " Feature 185    0\n",
              " Feature 186    0\n",
              " Feature 187    0\n",
              " Target         0\n",
              " Length: 188, dtype: int64,\n",
              " Feature 1      0\n",
              " Feature 2      0\n",
              " Feature 3      0\n",
              " Feature 4      0\n",
              " Feature 5      0\n",
              "               ..\n",
              " Feature 184    0\n",
              " Feature 185    0\n",
              " Feature 186    0\n",
              " Feature 187    0\n",
              " Target         0\n",
              " Length: 188, dtype: int64)"
            ]
          },
          "metadata": {},
          "execution_count": 7
        }
      ],
      "source": [
        "train_df.isnull().sum(), test_df.isnull().sum()"
      ]
    },
    {
      "cell_type": "code",
      "execution_count": null,
      "id": "860e8798",
      "metadata": {
        "colab": {
          "base_uri": "https://localhost:8080/"
        },
        "id": "860e8798",
        "outputId": "6d7e9b18-5a80-44af-d733-a7486a98be9b"
      },
      "outputs": [
        {
          "output_type": "execute_result",
          "data": {
            "text/plain": [
              "5"
            ]
          },
          "metadata": {},
          "execution_count": 8
        }
      ],
      "source": [
        "train_df['Target']=train_df['Target'].astype(int)\n",
        "train_df['Target'].nunique()"
      ]
    },
    {
      "cell_type": "code",
      "execution_count": null,
      "id": "3de14c93",
      "metadata": {
        "colab": {
          "base_uri": "https://localhost:8080/",
          "height": 272
        },
        "id": "3de14c93",
        "outputId": "48e26cd1-7e81-46d1-8443-c1082e42c6bf"
      },
      "outputs": [
        {
          "output_type": "execute_result",
          "data": {
            "text/plain": [
              "Target\n",
              "0    72470\n",
              "4     6431\n",
              "2     5788\n",
              "1     2223\n",
              "3      641\n",
              "Name: count, dtype: int64"
            ],
            "text/html": [
              "<div>\n",
              "<style scoped>\n",
              "    .dataframe tbody tr th:only-of-type {\n",
              "        vertical-align: middle;\n",
              "    }\n",
              "\n",
              "    .dataframe tbody tr th {\n",
              "        vertical-align: top;\n",
              "    }\n",
              "\n",
              "    .dataframe thead th {\n",
              "        text-align: right;\n",
              "    }\n",
              "</style>\n",
              "<table border=\"1\" class=\"dataframe\">\n",
              "  <thead>\n",
              "    <tr style=\"text-align: right;\">\n",
              "      <th></th>\n",
              "      <th>count</th>\n",
              "    </tr>\n",
              "    <tr>\n",
              "      <th>Target</th>\n",
              "      <th></th>\n",
              "    </tr>\n",
              "  </thead>\n",
              "  <tbody>\n",
              "    <tr>\n",
              "      <th>0</th>\n",
              "      <td>72470</td>\n",
              "    </tr>\n",
              "    <tr>\n",
              "      <th>4</th>\n",
              "      <td>6431</td>\n",
              "    </tr>\n",
              "    <tr>\n",
              "      <th>2</th>\n",
              "      <td>5788</td>\n",
              "    </tr>\n",
              "    <tr>\n",
              "      <th>1</th>\n",
              "      <td>2223</td>\n",
              "    </tr>\n",
              "    <tr>\n",
              "      <th>3</th>\n",
              "      <td>641</td>\n",
              "    </tr>\n",
              "  </tbody>\n",
              "</table>\n",
              "</div><br><label><b>dtype:</b> int64</label>"
            ]
          },
          "metadata": {},
          "execution_count": 9
        }
      ],
      "source": [
        "train_df['Target'].value_counts()"
      ]
    },
    {
      "cell_type": "markdown",
      "id": "2ce525e8",
      "metadata": {
        "id": "2ce525e8"
      },
      "source": [
        "# **Stratage 1 : Apply Multi classifier on 5 classes**"
      ]
    },
    {
      "cell_type": "markdown",
      "id": "4e560525",
      "metadata": {
        "id": "4e560525"
      },
      "source": [
        "# Convert data to binary classification dataset"
      ]
    },
    {
      "cell_type": "code",
      "execution_count": null,
      "id": "e55ea600",
      "metadata": {
        "colab": {
          "base_uri": "https://localhost:8080/"
        },
        "id": "e55ea600",
        "outputId": "3228a306-3c80-40a1-b198-b603b760baf4"
      },
      "outputs": [
        {
          "output_type": "execute_result",
          "data": {
            "text/plain": [
              "(Binary_Target\n",
              " 0    72470\n",
              " 1    15083\n",
              " Name: count, dtype: int64,\n",
              " Binary_Target\n",
              " 0    18117\n",
              " 1     3774\n",
              " Name: count, dtype: int64)"
            ]
          },
          "metadata": {},
          "execution_count": 10
        }
      ],
      "source": [
        "train_df_new = train_df.copy()\n",
        "test_df_new = test_df.copy()\n",
        "\n",
        "train_df_new['Binary_Target'] = train_df['Target'].apply(lambda x: 0 if x == 0 else 1)\n",
        "test_df_new['Binary_Target'] = test_df['Target'].apply(lambda x: 0 if x == 0 else 1)\n",
        "\n",
        "train_df_new['Binary_Target'].value_counts(),test_df_new['Binary_Target'].value_counts()"
      ]
    },
    {
      "cell_type": "markdown",
      "id": "68ce9a7a",
      "metadata": {
        "id": "68ce9a7a"
      },
      "source": [
        "# Split data and apply feature reduction"
      ]
    },
    {
      "cell_type": "code",
      "execution_count": null,
      "id": "51ef96e3",
      "metadata": {
        "colab": {
          "base_uri": "https://localhost:8080/"
        },
        "id": "51ef96e3",
        "outputId": "3472ca55-68bf-4ffb-9567-89f603a7b26a"
      },
      "outputs": [
        {
          "output_type": "stream",
          "name": "stdout",
          "text": [
            "Number of principal components to represent 99% of data: 66\n",
            "[[-1.52613972e+00 -1.10147187e-01  6.01091037e-01 -5.47300581e-01\n",
            "   4.32878385e-01 -1.59621245e-02  3.52399406e-01  7.64144984e-02\n",
            "  -1.55255899e-01  8.32902647e-02 -4.34076050e-01 -3.34128395e-01\n",
            "   1.25118467e-01  8.12535795e-01 -3.69961806e-01  3.00973116e-01\n",
            "   3.87178062e-01 -3.68464787e-01  1.59436679e-01 -2.15309064e-01\n",
            "   2.23890768e-01 -5.78175803e-02 -3.11541582e-02  9.91323267e-02\n",
            "   3.89400575e-01 -1.52223448e-02 -4.94298904e-01 -2.15185291e-01\n",
            "   3.85123638e-02 -2.04652301e-01  2.31975265e-02 -1.26092490e-01\n",
            "   2.01067297e-02 -6.25917577e-02 -1.72743708e-01  2.44750552e-01\n",
            "  -1.39983118e-01 -5.61698109e-02  8.45788685e-02 -1.78382182e-01\n",
            "   5.93912731e-02  1.23845026e-01 -5.67959090e-02  5.41000949e-02\n",
            "   9.10782274e-02 -1.17390397e-02 -9.61933511e-02 -3.29084723e-02\n",
            "   1.15787236e-01  6.67081158e-02  2.99743126e-02  1.57059329e-02\n",
            "   4.32822245e-02  4.87716482e-02 -3.09372136e-02 -2.46699776e-02\n",
            "   2.44593970e-02  5.04960739e-04  5.97945946e-02 -9.56278507e-03\n",
            "   2.07472579e-02  2.93737715e-02 -4.61681927e-02  1.83035877e-02\n",
            "  -5.08929851e-02 -1.49250523e-03]\n",
            " [-1.79497092e+00 -8.78506782e-03 -7.74141861e-02 -1.59022331e-01\n",
            "   3.07814980e-02 -5.91395160e-01  6.08017762e-01  1.89765948e-01\n",
            "   3.35149675e-01  1.88759636e-01  1.93232371e-02  8.57675262e-02\n",
            "  -3.53612405e-01 -1.20972036e-01  1.86895829e-01  3.29134020e-01\n",
            "  -2.70568854e-02 -1.38869425e-01  2.71136966e-01 -4.96534095e-02\n",
            "   4.05434680e-01  1.13436725e-01 -1.41030483e-01 -6.71738770e-02\n",
            "   5.40287615e-02 -1.56541888e-01  2.11032651e-01  4.14996867e-03\n",
            "  -1.53604073e-01 -8.10234493e-02  8.11258119e-02 -3.32570753e-02\n",
            "   1.94968432e-01  1.65245589e-01 -6.11395536e-02 -7.95212872e-02\n",
            "  -1.21544121e-01  1.94968137e-02  1.31619618e-01 -2.95965791e-02\n",
            "  -1.62083388e-01 -9.26403485e-02  5.08726240e-02 -1.02502692e-01\n",
            "   1.11137965e-01 -2.46004770e-02 -7.09662477e-02  1.47635497e-02\n",
            "   4.91320257e-02 -9.80809570e-02 -1.26994429e-01  9.46242039e-02\n",
            "  -1.12294932e-02  4.04384817e-02  6.09375180e-03 -5.37490635e-02\n",
            "  -6.27462991e-02 -3.73125478e-03 -7.28035108e-02  5.84675829e-02\n",
            "   1.85757520e-02  4.63682338e-02 -5.21489061e-02  3.70192433e-02\n",
            "  -1.10048412e-02 -4.78113360e-02]\n",
            " [-1.58461965e+00  2.17246163e-02 -4.49671234e-02  4.84779408e-01\n",
            "  -4.77765331e-01 -1.19681380e-01  7.41370691e-01  8.86747471e-02\n",
            "   8.74714769e-01 -9.45075129e-03 -2.86848427e-02  2.63019480e-01\n",
            "   1.37628738e-03 -2.23142811e-01 -2.13313264e-01  3.44230843e-01\n",
            "  -2.34770696e-03 -1.04336288e-01  1.92542240e-01  1.42094180e-01\n",
            "   1.53767975e-01  3.98989763e-01  4.28107275e-02  7.70377614e-02\n",
            "   3.49730428e-02 -6.37765152e-02  1.67626646e-01 -2.85622128e-01\n",
            "   1.52006800e-01 -4.50415162e-02 -4.51999922e-02 -3.09681850e-02\n",
            "  -8.24072671e-02  1.62258805e-02  4.50791605e-02  1.98732802e-02\n",
            "   3.22308736e-02  2.44196781e-04  2.71624660e-02  8.20670996e-02\n",
            "   7.33359387e-02  6.64748446e-02 -3.93556169e-02  3.65243439e-02\n",
            "  -6.01709738e-02  1.60480406e-02  1.26279531e-02 -5.85311781e-03\n",
            "  -1.97480756e-02  2.52668028e-02  1.24520723e-02  2.18709158e-02\n",
            "  -5.48287784e-02 -7.73960288e-02 -4.86396403e-02 -2.20285246e-02\n",
            "   1.64466744e-02  2.20660681e-02 -7.93706373e-03 -2.02066333e-02\n",
            "  -1.92946083e-02  1.01311528e-02  5.47236763e-03 -4.36577338e-03\n",
            "   1.19150787e-02  4.11058821e-02]\n",
            " [-1.28101290e+00 -1.80778563e-01  1.01586648e+00 -8.00313772e-01\n",
            "   5.44403626e-01  3.09345042e-02  1.06552493e-01  5.41266855e-01\n",
            "   3.31511275e-02  2.64174912e-01 -4.46583870e-01 -4.68021817e-01\n",
            "   7.47267779e-01  6.81262231e-01 -1.19083260e-01  6.94611263e-01\n",
            "   2.48576936e-01 -3.95613126e-01  4.95513305e-02 -3.86393758e-01\n",
            "   3.43151346e-02 -1.40849034e-02  1.06461308e-01 -1.96678763e-03\n",
            "   3.57469685e-01  3.87529868e-01 -8.00812368e-03 -3.53858252e-01\n",
            "  -2.65516732e-02  1.02089284e-01  2.41399381e-01 -1.28473323e-02\n",
            "   5.77076005e-02 -1.06101215e-01  1.17895585e-01  4.78868053e-02\n",
            "  -9.32529007e-02  1.32995872e-01 -2.85946982e-02  7.45894510e-02\n",
            "   4.47809855e-02  1.53446233e-02 -5.43343505e-02 -6.15436200e-02\n",
            "   5.58371005e-03  2.80949233e-02 -6.58039338e-03  5.60433190e-02\n",
            "  -2.19396201e-02  2.48885468e-03  7.49583108e-02 -1.49163833e-02\n",
            "  -1.17588412e-02  5.14568733e-02  1.36403971e-02  2.62831849e-02\n",
            "  -5.87360950e-02 -1.22065804e-02 -2.25287102e-02  4.95051011e-03\n",
            "   3.99718215e-03 -2.60275844e-02 -1.99432407e-02  3.62673258e-03\n",
            "  -3.93627514e-03 -2.54056966e-02]\n",
            " [ 1.41715803e+00 -7.27552311e-01 -5.47546924e-02  1.29107139e+00\n",
            "   1.93613631e-01  2.67209674e-01  2.25385690e-01 -4.04412450e-01\n",
            "  -2.23523442e-01  6.76764700e-01 -4.15336070e-01 -3.05315910e-01\n",
            "   5.72989513e-01  3.65003135e-01 -4.24823197e-01  8.68485213e-02\n",
            "   2.86277031e-02  2.00498931e-02  2.71395498e-01  1.80891008e-01\n",
            "   1.06726180e-01 -8.23664566e-02  1.76449947e-01 -2.12639663e-01\n",
            "  -3.53353284e-01 -4.96148203e-02  2.13421965e-02 -1.24440331e-01\n",
            "   1.19182935e-01 -7.19674145e-03  1.46041685e-01 -2.21342311e-01\n",
            "  -9.09207141e-02  1.42304466e-02 -5.52207080e-02 -1.68410549e-01\n",
            "   7.21217909e-02  8.27205095e-02 -1.69656800e-02  1.00809836e-01\n",
            "   1.21674874e-01 -6.27397722e-02  9.03414104e-04 -7.51647061e-02\n",
            "   4.87840108e-02  1.67677731e-03 -3.70873273e-04  1.50315978e-03\n",
            "   2.22226107e-02 -2.79781273e-02  9.16494314e-02 -1.00382254e-01\n",
            "  -4.03994700e-02  1.14065174e-02  1.20323647e-01  2.76696225e-02\n",
            "  -3.50435425e-02  5.28840437e-02 -3.69528005e-02 -1.28836276e-02\n",
            "  -9.26392660e-03 -2.07753461e-02  1.36344299e-02 -5.42620856e-03\n",
            "  -5.95074538e-02 -2.33721689e-02]]\n"
          ]
        }
      ],
      "source": [
        "X_train = train_df_new.drop(columns=['Binary_Target'])\n",
        "y_train = train_df_new['Binary_Target']\n",
        "X_test = test_df_new.drop(columns=['Binary_Target'])\n",
        "y_test = test_df_new['Binary_Target']\n",
        "\n",
        "pca = PCA(n_components=0.99)\n",
        "X_train_pca = pca.fit_transform(X_train)\n",
        "X_test_pca = pca.transform(X_test)\n",
        "\n",
        "joblib.dump(pca, 'pca_transform.pkl')\n",
        "\n",
        "num_components = X_train_pca.shape[1]\n",
        "print(f\"Number of principal components to represent 99% of data: {num_components}\")\n",
        "\n",
        "print(X_train_pca[:5])"
      ]
    },
    {
      "cell_type": "markdown",
      "id": "a50a312d",
      "metadata": {
        "id": "a50a312d"
      },
      "source": [
        "# Binary classifier between normal and abnormal"
      ]
    },
    {
      "cell_type": "code",
      "execution_count": null,
      "id": "5f78e9a4",
      "metadata": {
        "colab": {
          "base_uri": "https://localhost:8080/"
        },
        "id": "5f78e9a4",
        "outputId": "985bab67-7086-4215-97b3-96ef930961e3"
      },
      "outputs": [
        {
          "output_type": "stream",
          "name": "stdout",
          "text": [
            "Binary Classifier Evaluation:\n",
            "              precision    recall  f1-score   support\n",
            "\n",
            "           0       1.00      1.00      1.00     18117\n",
            "           1       1.00      0.99      1.00      3774\n",
            "\n",
            "    accuracy                           1.00     21891\n",
            "   macro avg       1.00      1.00      1.00     21891\n",
            "weighted avg       1.00      1.00      1.00     21891\n",
            "\n",
            "Confusion Matrix (Binary Classifier):\n",
            "[[18116     1]\n",
            " [   22  3752]]\n"
          ]
        }
      ],
      "source": [
        "classifier = RandomForestClassifier(n_estimators=200, max_depth=None, class_weight={0: 1, 1: 2})\n",
        "classifier.fit(X_train_pca, y_train)\n",
        "\n",
        "y_pred_train = classifier.predict(X_train_pca)\n",
        "y_pred_test = classifier.predict(X_test_pca)\n",
        "\n",
        "joblib.dump(classifier, 'Binary classifier_random_forest_model.pkl')\n",
        "\n",
        "# Evaluate binary classifier\n",
        "print(\"Binary Classifier Evaluation:\")\n",
        "print(classification_report(y_test, y_pred_test))\n",
        "print(\"Confusion Matrix (Binary Classifier):\")\n",
        "print(confusion_matrix(y_test, y_pred_test))"
      ]
    },
    {
      "cell_type": "markdown",
      "id": "f1858435",
      "metadata": {
        "id": "f1858435"
      },
      "source": [
        "# Prepare sub-dataset for abnormal data (4 sub-classes)"
      ]
    },
    {
      "cell_type": "code",
      "execution_count": null,
      "id": "4c9adda6",
      "metadata": {
        "id": "4c9adda6"
      },
      "outputs": [],
      "source": [
        "indices_sub_test = np.where(y_pred_test != 0)[0]\n",
        "indices_sub_train = np.where(y_train != 0)[0]\n",
        "\n",
        "X_train_sub = X_train.iloc[indices_sub_train]\n",
        "y_train_sub = train_df.iloc[indices_sub_train]['Target']\n",
        "\n",
        "X_test_sub = X_test.iloc[indices_sub_test]\n",
        "y_test_sub = test_df.iloc[indices_sub_test]['Target']\n",
        "\n",
        "X_train_sub = X_train_sub[y_train_sub != 0]\n",
        "y_train_sub = y_train_sub[y_train_sub != 0]\n",
        "X_test_sub = X_test_sub[y_test_sub != 0]\n",
        "y_test_sub = y_test_sub[y_test_sub != 0]"
      ]
    },
    {
      "cell_type": "markdown",
      "id": "3ba90833",
      "metadata": {
        "id": "3ba90833"
      },
      "source": [
        "# Feature reduction"
      ]
    },
    {
      "cell_type": "code",
      "execution_count": null,
      "id": "224a88c2",
      "metadata": {
        "colab": {
          "base_uri": "https://localhost:8080/"
        },
        "id": "224a88c2",
        "outputId": "5f8ca8a1-1827-44ce-9769-6c4847b2fdf8"
      },
      "outputs": [
        {
          "output_type": "stream",
          "name": "stdout",
          "text": [
            "Number of principal components to represent 99% of data: 75\n"
          ]
        }
      ],
      "source": [
        "scaler = StandardScaler()\n",
        "scaler.fit(X_train_sub)\n",
        "X_train_sub_scaled = scaler.transform(X_train_sub)\n",
        "X_test_sub_scaled = scaler.transform(X_test_sub)\n",
        "\n",
        "pca = PCA(n_components=0.99)\n",
        "X_train_sub_pca = pca.fit_transform(X_train_sub_scaled)\n",
        "X_test_sub_pca = pca.transform(X_test_sub_scaled)\n",
        "\n",
        "num_components = X_train_sub_pca.shape[1]\n",
        "print(f\"Number of principal components to represent 99% of data: {num_components}\")"
      ]
    },
    {
      "cell_type": "markdown",
      "id": "671b5e6c",
      "metadata": {
        "id": "671b5e6c"
      },
      "source": [
        "# Handle class imbalance for sub-classifier"
      ]
    },
    {
      "cell_type": "code",
      "execution_count": null,
      "id": "0e409035",
      "metadata": {
        "colab": {
          "base_uri": "https://localhost:8080/"
        },
        "id": "0e409035",
        "outputId": "cc7864c5-bf29-4c97-f47e-c4a04503fe22"
      },
      "outputs": [
        {
          "output_type": "execute_result",
          "data": {
            "text/plain": [
              "(array([[-3.49029084e+00, -2.19750814e+00, -2.85708742e+00, ...,\n",
              "          9.98523861e-02, -1.61410870e-01, -2.61915907e-01],\n",
              "        [ 8.86553429e+00,  2.82548769e+01, -5.22682810e+00, ...,\n",
              "         -4.03234985e-02,  5.99867935e-03, -6.67275812e-02],\n",
              "        [ 3.43491216e-01, -2.92219610e+00, -3.19566077e+00, ...,\n",
              "          2.88252222e-02, -1.67688220e-01, -3.05732488e-01],\n",
              "        ...,\n",
              "        [-9.97137326e+00, -1.29602000e+00, -2.73262019e+00, ...,\n",
              "         -3.70086624e-02, -1.23902284e-01, -1.71935138e-01],\n",
              "        [-1.03706429e+01, -8.39849398e-01, -2.12813711e-01, ...,\n",
              "         -1.45036063e-01, -1.50847628e-01, -4.55311842e-02],\n",
              "        [-5.70671674e+00, -2.23476576e+00, -4.77672153e+00, ...,\n",
              "         -1.65258333e-01, -2.29942043e-01, -1.93290490e-01]]),\n",
              " 0        1\n",
              " 1        1\n",
              " 2        1\n",
              " 3        1\n",
              " 4        1\n",
              "         ..\n",
              " 25719    3\n",
              " 25720    3\n",
              " 25721    3\n",
              " 25722    3\n",
              " 25723    3\n",
              " Name: Target, Length: 25724, dtype: int64)"
            ]
          },
          "metadata": {},
          "execution_count": 15
        }
      ],
      "source": [
        "smote = SMOTE(random_state=42)\n",
        "X_train_sub_balanced, y_train_sub_balanced = smote.fit_resample(X_train_sub_pca, y_train_sub)\n",
        "X_train_sub_balanced,y_train_sub_balanced"
      ]
    },
    {
      "cell_type": "markdown",
      "id": "802a1159",
      "metadata": {
        "id": "802a1159"
      },
      "source": [
        "# Train sub-classifier on 4 abnormal classes"
      ]
    },
    {
      "cell_type": "code",
      "execution_count": null,
      "id": "eeaf07a7",
      "metadata": {
        "colab": {
          "base_uri": "https://localhost:8080/"
        },
        "id": "eeaf07a7",
        "outputId": "c63731f6-0779-4a77-ac60-4afbdea1a64d"
      },
      "outputs": [
        {
          "output_type": "stream",
          "name": "stdout",
          "text": [
            "\n",
            "Sub-classifier Evaluation:\n",
            "              precision    recall  f1-score   support\n",
            "\n",
            "         1.0       0.98      0.93      0.96       539\n",
            "         2.0       0.95      0.98      0.97      1443\n",
            "         3.0       0.90      0.92      0.91       162\n",
            "         4.0       1.00      0.98      0.99      1608\n",
            "\n",
            "    accuracy                           0.97      3752\n",
            "   macro avg       0.96      0.95      0.96      3752\n",
            "weighted avg       0.97      0.97      0.97      3752\n",
            "\n",
            "Confusion Matrix (Sub-classifier):\n",
            "[[ 501   38    0    0]\n",
            " [   7 1420   16    0]\n",
            " [   1   12  149    0]\n",
            " [   0   27    0 1581]]\n"
          ]
        }
      ],
      "source": [
        "sub_classifier = RandomForestClassifier(class_weight='balanced')\n",
        "sub_classifier.fit(X_train_sub_balanced, y_train_sub_balanced)\n",
        "\n",
        "y_pred_sub_test = sub_classifier.predict(X_test_sub_pca)\n",
        "\n",
        "joblib.dump(classifier, 'sub-classifier_random_forest_model.pkl')\n",
        "\n",
        "print(\"\\nSub-classifier Evaluation:\")\n",
        "print(classification_report(y_test_sub, y_pred_sub_test))\n",
        "print(\"Confusion Matrix (Sub-classifier):\")\n",
        "print(confusion_matrix(y_test_sub, y_pred_sub_test))"
      ]
    },
    {
      "cell_type": "markdown",
      "id": "49595be0",
      "metadata": {
        "id": "49595be0"
      },
      "source": [
        "# Combine binary classifier and sub-classifier predictions"
      ]
    },
    {
      "cell_type": "code",
      "execution_count": null,
      "id": "f5378ff2",
      "metadata": {
        "colab": {
          "base_uri": "https://localhost:8080/"
        },
        "id": "f5378ff2",
        "outputId": "5b5f0c7e-82d9-4251-b967-efd3b1d7b5f1"
      },
      "outputs": [
        {
          "output_type": "stream",
          "name": "stdout",
          "text": [
            "Length of indices_sub_test: 3753\n",
            "Length of y_pred_sub_test: 3752\n",
            "Warning: Length mismatch between indices_sub_test and y_pred_sub_test.\n",
            "\n",
            "Final Model Evaluation:\n",
            "              precision    recall  f1-score   support\n",
            "\n",
            "         0.0       1.00      1.00      1.00     18117\n",
            "         1.0       0.98      0.90      0.94       556\n",
            "         2.0       0.95      0.98      0.96      1448\n",
            "         3.0       0.90      0.91      0.91       162\n",
            "         4.0       1.00      0.98      0.99      1608\n",
            "\n",
            "    accuracy                           0.99     21891\n",
            "   macro avg       0.96      0.96      0.96     21891\n",
            "weighted avg       0.99      0.99      0.99     21891\n",
            "\n",
            "Confusion Matrix (Final Model):\n",
            "[[18116     1     0     0     0]\n",
            " [   17   500    39     0     0]\n",
            " [    5     7  1419    17     0]\n",
            " [    0     1    12   148     1]\n",
            " [    0     1    27     0  1580]]\n"
          ]
        }
      ],
      "source": [
        "final_predictions = y_pred_test.copy()\n",
        "\n",
        "print(f\"Length of indices_sub_test: {len(indices_sub_test)}\")\n",
        "print(f\"Length of y_pred_sub_test: {len(y_pred_sub_test)}\")\n",
        "\n",
        "if len(indices_sub_test) == len(y_pred_sub_test):\n",
        "    final_predictions[indices_sub_test] = y_pred_sub_test\n",
        "else:\n",
        "    print(\"Warning: Length mismatch between indices_sub_test and y_pred_sub_test.\")\n",
        "    min_length = min(len(indices_sub_test), len(y_pred_sub_test))\n",
        "    final_predictions[indices_sub_test[:min_length]] = y_pred_sub_test[:min_length]\n",
        "\n",
        "y_test_true = test_df['Target']\n",
        "\n",
        "print(\"\\nFinal Model Evaluation:\")\n",
        "print(classification_report(y_test_true, final_predictions))\n",
        "print(\"Confusion Matrix (Final Model):\")\n",
        "print(confusion_matrix(y_test_true, final_predictions))"
      ]
    },
    {
      "cell_type": "markdown",
      "id": "cea67216",
      "metadata": {
        "id": "cea67216"
      },
      "source": [
        " # **Stratage 2 : Apply single classifier on 5 classes**"
      ]
    },
    {
      "cell_type": "markdown",
      "id": "55838a57",
      "metadata": {
        "id": "55838a57"
      },
      "source": [
        "# Split original data and apply feature reduction"
      ]
    },
    {
      "cell_type": "code",
      "execution_count": null,
      "id": "e2d3c9de",
      "metadata": {
        "id": "e2d3c9de",
        "outputId": "1f3515e9-090c-46f5-8bec-508639075ebc",
        "colab": {
          "base_uri": "https://localhost:8080/"
        }
      },
      "outputs": [
        {
          "output_type": "stream",
          "name": "stdout",
          "text": [
            "Number of principal components to represent 99% of data: 69\n",
            "[[-1.43690148e+00  6.04470657e-01 -5.69384516e-01 -4.13983099e-01\n",
            "  -1.94281190e-01 -3.80064480e-01  7.90888493e-02 -1.66082698e-02\n",
            "  -1.57491673e-01 -4.99966115e-01  4.86823525e-02 -2.20451798e-01\n",
            "   8.07113829e-01 -2.19038767e-01 -6.16276092e-02 -6.04224348e-01\n",
            "  -4.14971532e-02 -3.63421356e-01 -2.13966063e-01  2.22595931e-01\n",
            "  -6.00413637e-02 -2.61408216e-02  1.00116957e-01  3.89872645e-01\n",
            "  -8.70045330e-03 -4.87645498e-01 -2.10611896e-01 -5.36522812e-02\n",
            "  -2.23976615e-01  1.70277009e-02  1.09437320e-01  6.72296916e-02\n",
            "  -5.06268503e-02 -1.58614723e-01  2.47903778e-01 -1.51284748e-01\n",
            "  -6.26336528e-02  8.37341199e-02 -1.77732150e-01  3.99652609e-02\n",
            "   1.28455818e-01 -5.71524592e-02  5.29645149e-02  8.66885230e-02\n",
            "   1.34563071e-02 -9.29615989e-02 -5.07336576e-02  1.08594479e-01\n",
            "   7.43373748e-02  3.48211040e-02  1.41664708e-02  4.52004875e-02\n",
            "   4.74414350e-02 -3.37716859e-02 -2.58754503e-02  2.33129153e-02\n",
            "  -6.92899227e-03  6.11200910e-02 -2.39791225e-03  2.11905163e-02\n",
            "   3.02471333e-02 -4.51515677e-02  1.32912768e-02 -5.27917232e-02\n",
            "   9.23255008e-04  2.10152281e-02 -1.99322189e-02  2.42256467e-02\n",
            "  -1.51218553e-02]\n",
            " [-1.72058876e+00 -7.51246112e-02 -2.45866647e-01  7.54836180e-02\n",
            "  -6.77724332e-01 -3.50701617e-01  2.06937176e-01 -3.63524373e-01\n",
            "   3.83407451e-01 -2.99424687e-02 -5.05923814e-02  3.63633236e-01\n",
            "  -1.18762152e-01 -7.51482450e-02  3.66449423e-01 -1.93991585e-02\n",
            "  -3.72364525e-02 -2.73839892e-01 -6.26978293e-02  4.09267768e-01\n",
            "   1.19990202e-01 -1.51683250e-01 -7.81299733e-02  5.71528536e-02\n",
            "  -1.63034834e-01  2.07337727e-01  3.07918313e-02 -1.28335314e-01\n",
            "  -2.77175320e-02  1.12585571e-01 -1.18020167e-01  2.22942915e-01\n",
            "   5.85699751e-02 -8.44291418e-02 -1.05094281e-01 -1.22563227e-01\n",
            "   1.30808617e-02  1.32404296e-01 -2.31241939e-02 -1.54056537e-01\n",
            "  -9.92470912e-02  6.32986959e-02 -1.04350515e-01  1.10714329e-01\n",
            "  -5.75681842e-03 -7.15616731e-02 -3.16934797e-03  6.28447991e-02\n",
            "  -1.00855776e-01 -1.23045929e-01  9.07852453e-02 -4.92414697e-03\n",
            "   3.70513072e-02  4.80052647e-05 -6.04199546e-02 -5.98267417e-02\n",
            "   7.53743738e-03 -7.79895425e-02  4.74241048e-02  8.88443967e-03\n",
            "   5.16551175e-02 -5.42190425e-02  3.53675963e-02 -1.38622777e-02\n",
            "  -4.48826596e-02 -4.15979053e-03  3.91171712e-02 -6.50411024e-02\n",
            "  -3.30869341e-02]\n",
            " [-1.50937052e+00 -4.47572579e-02  3.49775642e-01  6.18407014e-01\n",
            "  -2.33999432e-01 -6.16878261e-01  1.02788260e-01 -2.04997084e-01\n",
            "   8.93531835e-01  1.32876893e-01  2.24327567e-01  7.98937477e-02\n",
            "  -1.93112590e-01 -4.12064345e-01  1.06111696e-01 -9.07277064e-02\n",
            "  -3.16224394e-02 -1.96143843e-01  1.31556364e-01  1.57936531e-01\n",
            "   4.04272509e-01  3.84154022e-02  5.57235281e-02  3.90677356e-02\n",
            "  -1.04625596e-01  1.82465618e-01 -2.96562709e-01  6.45878664e-02\n",
            "  -9.32450656e-02 -6.09099279e-02  7.23060021e-02 -4.93251615e-02\n",
            "   5.23690256e-02  4.61564909e-02  1.99265596e-02  3.08302447e-02\n",
            "  -2.32004546e-03  2.73392743e-02  7.94236321e-02  7.24655106e-02\n",
            "   6.99874295e-02 -4.29652136e-02  3.73355821e-02 -5.91177339e-02\n",
            "   7.54233138e-03  1.79437135e-02 -3.61826036e-03 -2.09328796e-02\n",
            "   2.44375361e-02  9.96804479e-03  2.27783165e-02 -5.28772035e-02\n",
            "  -7.93578564e-02 -4.84422183e-02 -1.77115418e-02  1.90159596e-02\n",
            "   2.08946563e-02 -2.11877756e-03 -2.34601003e-02 -2.01344291e-02\n",
            "   1.01248887e-02  4.83779177e-03 -1.76433745e-03  1.60212991e-02\n",
            "   4.37969201e-02  3.94523990e-02  2.56746905e-02 -2.09032984e-02\n",
            "  -1.76337145e-02]\n",
            " [-1.18102739e+00  1.01987402e+00 -7.78778017e-01 -6.07432891e-01\n",
            "  -5.57930660e-02 -1.27346745e-01  5.42458380e-01 -3.67871143e-02\n",
            "   5.34386665e-02 -5.75759429e-01 -3.08232891e-03 -8.45659048e-01\n",
            "   6.93756397e-01 -3.56830539e-01  4.02034670e-01 -5.54172574e-01\n",
            "  -1.82311933e-01 -2.71912845e-01 -3.80926961e-01  3.16743499e-02\n",
            "  -1.84747369e-02  1.12078569e-01  7.08523210e-03  3.51985411e-01\n",
            "   3.69850207e-01  1.62145342e-02 -3.71835682e-01 -7.76659916e-02\n",
            "   9.35045602e-02  2.26625722e-01  6.39169891e-02  1.34229802e-03\n",
            "  -1.20486266e-01  1.25084081e-01  4.54611225e-02 -9.34118724e-02\n",
            "   1.31920994e-01 -2.17256601e-02  6.92095214e-02  5.32792241e-02\n",
            "   1.73528457e-02 -5.04842918e-02 -6.21087008e-02  6.85705465e-03\n",
            "   2.79154268e-02 -4.02377369e-03  5.11033929e-02 -1.20126956e-02\n",
            "   1.41881372e-04  6.72926976e-02 -1.05377554e-02 -1.86079670e-02\n",
            "   5.43594786e-02  1.64275819e-02  2.85401170e-02 -5.66642457e-02\n",
            "  -8.95752485e-04 -3.01366456e-02  7.35469411e-03  8.01841952e-03\n",
            "  -2.80676489e-02 -1.80352916e-02 -1.16070602e-03 -9.87194959e-03\n",
            "  -3.23813443e-02 -6.14918710e-02 -1.43591785e-02  2.51615609e-02\n",
            "   4.59808824e-02]\n",
            " [ 1.62900823e+00 -5.47428815e-02  1.13245955e+00  7.46069130e-02\n",
            "   4.10444173e-02 -3.50010518e-01 -4.00459386e-01 -2.20827638e-01\n",
            "  -1.51351353e-01 -7.73637857e-01 -2.33145352e-01 -6.02358259e-01\n",
            "   4.04549869e-01 -4.43626260e-01 -2.18060589e-01  6.55537709e-02\n",
            "   1.55661764e-01 -2.21428802e-01  1.72182279e-01  1.08893631e-01\n",
            "  -7.92475057e-02  1.63220829e-01 -2.26052038e-01 -3.52892343e-01\n",
            "  -5.49890251e-02  2.38625979e-02 -1.10585841e-01  4.79582642e-02\n",
            "  -5.66074689e-02  1.08580732e-01  2.82964717e-01  1.73557786e-02\n",
            "   4.61117380e-02 -5.90633632e-02 -1.58683289e-01  8.26555332e-02\n",
            "   8.49224757e-02 -1.26881099e-02  9.20613866e-02  1.32260302e-01\n",
            "  -6.21176272e-02 -2.36919823e-03 -7.58286600e-02  4.70896391e-02\n",
            "   5.54729533e-03 -9.67101176e-04  2.91842621e-04  2.12977640e-02\n",
            "  -2.45940315e-02  9.17017085e-02 -9.65138819e-02 -4.74977789e-02\n",
            "   1.54145895e-02  1.23171077e-01  2.58360338e-02 -3.23412940e-02\n",
            "   5.69824737e-02 -3.13361457e-02 -1.86232369e-02 -8.78319741e-03\n",
            "  -2.17232384e-02  1.42483423e-02 -7.05341833e-03 -5.84976345e-02\n",
            "  -1.46776069e-02  8.28394719e-02  2.37627512e-02  8.44502991e-02\n",
            "  -2.40870598e-03]]\n"
          ]
        }
      ],
      "source": [
        "X_train = train_df.drop(columns=['Target'])\n",
        "y_train = train_df['Target']\n",
        "X_test = test_df.drop(columns=['Target'])\n",
        "y_test = test_df['Target']\n",
        "\n",
        "pca = PCA(n_components=0.99)\n",
        "X_train_pca = pca.fit_transform(X_train)\n",
        "X_test_pca = pca.transform(X_test)\n",
        "\n",
        "num_components = X_train_pca.shape[1]\n",
        "print(f\"Number of principal components to represent 99% of data: {num_components}\")\n",
        "\n",
        "print(X_train_pca[:5])"
      ]
    },
    {
      "cell_type": "code",
      "execution_count": null,
      "id": "216f6116",
      "metadata": {
        "id": "216f6116",
        "outputId": "f38510cf-4bb3-4a1c-9c83-3c4f6082f00a",
        "colab": {
          "base_uri": "https://localhost:8080/"
        }
      },
      "outputs": [
        {
          "output_type": "execute_result",
          "data": {
            "text/plain": [
              "(array([[-1.43690148e+00,  6.04470657e-01, -5.69384516e-01, ...,\n",
              "         -1.99322189e-02,  2.42256467e-02, -1.51218553e-02],\n",
              "        [-1.72058876e+00, -7.51246112e-02, -2.45866647e-01, ...,\n",
              "          3.91171712e-02, -6.50411024e-02, -3.30869341e-02],\n",
              "        [-1.50937052e+00, -4.47572579e-02,  3.49775642e-01, ...,\n",
              "          2.56746905e-02, -2.09032984e-02, -1.76337145e-02],\n",
              "        ...,\n",
              "        [ 1.25294457e+00, -1.41267537e-01,  7.43625819e-01, ...,\n",
              "         -3.47653607e-02, -2.42910955e-02, -5.94618363e-02],\n",
              "        [ 2.76877134e+00,  2.79654669e-01,  8.96367959e-01, ...,\n",
              "         -7.43573247e-03,  7.58750953e-02,  3.09548076e-03],\n",
              "        [ 3.27845758e+00, -4.67992850e-01,  8.23447607e-01, ...,\n",
              "          4.64438983e-02,  1.44695928e-02, -2.36959324e-02]]),\n",
              " 0         0\n",
              " 1         0\n",
              " 2         0\n",
              " 3         0\n",
              " 4         0\n",
              "          ..\n",
              " 362345    4\n",
              " 362346    4\n",
              " 362347    4\n",
              " 362348    4\n",
              " 362349    4\n",
              " Name: Target, Length: 362350, dtype: int64)"
            ]
          },
          "metadata": {},
          "execution_count": 38
        }
      ],
      "source": [
        "smote = SMOTE(random_state=42)\n",
        "X_train, y_train = smote.fit_resample(X_train_pca, y_train)\n",
        "\n",
        "X_train, y_train"
      ]
    },
    {
      "cell_type": "markdown",
      "id": "c417ab2d",
      "metadata": {
        "id": "c417ab2d"
      },
      "source": [
        "# Apply Singe classifier"
      ]
    },
    {
      "cell_type": "code",
      "execution_count": null,
      "id": "73addc9b",
      "metadata": {
        "id": "73addc9b",
        "outputId": "f9bc6faf-8eb8-474c-b7e6-772f4c82afae",
        "colab": {
          "base_uri": "https://localhost:8080/"
        }
      },
      "outputs": [
        {
          "output_type": "stream",
          "name": "stdout",
          "text": [
            "Training Accuracy: 0.9944\n",
            "Test Accuracy: 0.9574\n",
            "\n",
            "Classification Report (Test Data):\n",
            "              precision    recall  f1-score   support\n",
            "\n",
            "         0.0       0.99      0.96      0.98     18117\n",
            "         1.0       0.53      0.82      0.64       556\n",
            "         2.0       0.88      0.94      0.91      1448\n",
            "         3.0       0.49      0.83      0.62       162\n",
            "         4.0       0.96      0.98      0.97      1608\n",
            "\n",
            "    accuracy                           0.96     21891\n",
            "   macro avg       0.77      0.91      0.82     21891\n",
            "weighted avg       0.97      0.96      0.96     21891\n",
            "\n",
            "Confusion Matrix (Test Data):\n",
            "[[17436   386   144    97    54]\n",
            " [   75   457    17     5     2]\n",
            " [   31    17  1361    30     9]\n",
            " [   12     2    14   134     0]\n",
            " [   19     6     8     5  1570]]\n"
          ]
        }
      ],
      "source": [
        "knn_model = KNeighborsClassifier(n_neighbors=5)\n",
        "knn_model.fit(X_train, y_train)\n",
        "\n",
        "y_pred_train = knn_model.predict(X_train)\n",
        "y_pred_test = knn_model.predict(X_test_pca)\n",
        "\n",
        "train_accuracy = accuracy_score(y_train, y_pred_train)\n",
        "test_accuracy = accuracy_score(y_test, y_pred_test)\n",
        "\n",
        "joblib.dump(classifier, 'knn_model.pkl')\n",
        "\n",
        "print(f\"Training Accuracy: {train_accuracy:.4f}\")\n",
        "print(f\"Test Accuracy: {test_accuracy:.4f}\")\n",
        "\n",
        "print(\"\\nClassification Report (Test Data):\")\n",
        "print(classification_report(y_test, y_pred_test))\n",
        "\n",
        "print(\"Confusion Matrix (Test Data):\")\n",
        "print(confusion_matrix(y_test, y_pred_test))"
      ]
    },
    {
      "cell_type": "code",
      "execution_count": null,
      "id": "845b77d7",
      "metadata": {
        "id": "845b77d7",
        "outputId": "f3bd363d-d3f2-4e8f-f113-63a7d2ed0af0",
        "colab": {
          "base_uri": "https://localhost:8080/"
        }
      },
      "outputs": [
        {
          "output_type": "stream",
          "name": "stdout",
          "text": [
            "Random Forest - Training Accuracy: 1.0000\n",
            "Random Forest - Test Accuracy: 0.9781\n",
            "\n",
            "Random Forest - Classification Report (Test Data):\n",
            "              precision    recall  f1-score   support\n",
            "\n",
            "         0.0       0.98      0.99      0.99     18117\n",
            "         1.0       0.87      0.73      0.79       556\n",
            "         2.0       0.95      0.92      0.94      1448\n",
            "         3.0       0.79      0.73      0.76       162\n",
            "         4.0       1.00      0.96      0.98      1608\n",
            "\n",
            "    accuracy                           0.98     21891\n",
            "   macro avg       0.92      0.87      0.89     21891\n",
            "weighted avg       0.98      0.98      0.98     21891\n",
            "\n",
            "Confusion Matrix (Test Data):\n",
            "[[18010    56    37    12     2]\n",
            " [  143   405     7     0     1]\n",
            " [   93     1  1334    19     1]\n",
            " [   29     0    15   118     0]\n",
            " [   53     2     8     0  1545]]\n"
          ]
        }
      ],
      "source": [
        "rf_classifier = RandomForestClassifier(n_estimators=200, random_state=42)\n",
        "rf_classifier.fit(X_train, y_train)\n",
        "\n",
        "y_pred_train_rf = rf_classifier.predict(X_train)\n",
        "y_pred_test_rf = rf_classifier.predict(X_test_pca)\n",
        "\n",
        "train_accuracy_rf = accuracy_score(y_train, y_pred_train_rf)\n",
        "test_accuracy_rf = accuracy_score(y_test, y_pred_test_rf)\n",
        "\n",
        "joblib.dump(classifier, 'rf_classifier.pkl')\n",
        "\n",
        "print(f\"Random Forest - Training Accuracy: {train_accuracy_rf:.4f}\")\n",
        "print(f\"Random Forest - Test Accuracy: {test_accuracy_rf:.4f}\")\n",
        "\n",
        "print(\"\\nRandom Forest - Classification Report (Test Data):\")\n",
        "print(classification_report(y_test, y_pred_test_rf))\n",
        "\n",
        "print(\"Confusion Matrix (Test Data):\")\n",
        "print(confusion_matrix(y_test, y_pred_test_rf))"
      ]
    }
  ],
  "metadata": {
    "colab": {
      "provenance": []
    },
    "kaggle": {
      "accelerator": "nvidiaTeslaT4",
      "dataSources": [
        {
          "datasetId": 29414,
          "sourceId": 37484,
          "sourceType": "datasetVersion"
        }
      ],
      "dockerImageVersionId": 30746,
      "isGpuEnabled": true,
      "isInternetEnabled": true,
      "language": "python",
      "sourceType": "notebook"
    },
    "kernelspec": {
      "display_name": "Python 3",
      "language": "python",
      "name": "python3"
    },
    "language_info": {
      "codemirror_mode": {
        "name": "ipython",
        "version": 3
      },
      "file_extension": ".py",
      "mimetype": "text/x-python",
      "name": "python",
      "nbconvert_exporter": "python",
      "pygments_lexer": "ipython3",
      "version": "3.10.13"
    },
    "papermill": {
      "default_parameters": {},
      "duration": 1858.494596,
      "end_time": "2024-10-01T21:46:01.100973",
      "environment_variables": {},
      "exception": null,
      "input_path": "__notebook__.ipynb",
      "output_path": "__notebook__.ipynb",
      "parameters": {},
      "start_time": "2024-10-01T21:15:02.606377",
      "version": "2.5.0"
    }
  },
  "nbformat": 4,
  "nbformat_minor": 5
}